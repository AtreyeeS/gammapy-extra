{
 "cells": [
  {
   "cell_type": "markdown",
   "metadata": {},
   "source": [
    "# Uncertainty estimation prototype\n",
    "\n",
    "For https://github.com/gammapy/gammapy/pull/2255\n",
    "\n",
    "Show how to compute spectral model error band using\n",
    "\n",
    "1. Differentials\n",
    "2. Samples\n",
    "\n",
    "as suggested in https://github.com/gammapy/gammapy/pull/2255#issuecomment-546118689\n",
    "\n",
    "We use a spectral model with the values and covariance taken from here:\n",
    "https://github.com/open-gamma-ray-astro/joint-crab/blob/master/results/fit/fit_veritas.yaml"
   ]
  },
  {
   "cell_type": "code",
   "execution_count": 1,
   "metadata": {
    "pycharm": {
     "is_executing": false
    }
   },
   "outputs": [],
   "source": [
    "import numpy as np\n",
    "import astropy.units as u\n",
    "from gammapy.modeling.models import LogParabolaSpectralModel\n",
    "from scipy.optimize.slsqp import approx_jacobian\n",
    "from functools import partial"
   ]
  },
  {
   "cell_type": "code",
   "execution_count": 2,
   "metadata": {
    "pycharm": {
     "is_executing": false,
     "name": "#%%\n"
    }
   },
   "outputs": [],
   "source": [
    "model = LogParabolaSpectralModel(\n",
    "    amplitude=3.76e-11 * u.Unit(\"cm-2 s-1 TeV-1\"),\n",
    "    reference=1 * u.TeV,\n",
    "    alpha=2.44,\n",
    "    beta=0.25,\n",
    ")\n",
    "model.parameters.covariance = [\n",
    "    [1.31e-23, 0, -6.80e-14, 3.04e-13],\n",
    "    [0, 0, 0, 0],\n",
    "    [-6.80e-14, 0, 0.00899, 0.00904],\n",
    "    [3.04e-13, 0, 0.00904, 0.0284],\n",
    "]"
   ]
  },
  {
   "cell_type": "markdown",
   "metadata": {
    "pycharm": {
     "name": "#%% md\n"
    }
   },
   "source": [
    "## Differentials\n",
    "\n",
    "The current `evaluate_error` is based on the Python `uncertainties` package,\n",
    "which is based on differentials (computed with high precision, using autograd).\n",
    "\n",
    "Unfortunately it doesn't work for all models, and doesn't support `astropy.units.Quantity`,\n",
    "so let's code up our own solution. It will be less accurate (using finite differential steps)\n",
    "and probably also slower, but it will work for any model.\n",
    "\n",
    "To do the error propagation, we use the common approximation:\n",
    "https://en.wikipedia.org/wiki/Propagation_of_uncertainty#Non-linear_combinations\n",
    "\n",
    "- `p` = parameter vector\n",
    "- `C` = covariance matrix for parameters `p`\n",
    "- `f` = derived quantity, here `dN/dE(E)`\n",
    "-  `df/dp` = partial derivative vector, how `f` changes with `p`\n",
    "\n",
    "``f_err ^ 2 = (df/dp) @ C @ (df/dp)``"
   ]
  },
  {
   "cell_type": "code",
   "execution_count": 3,
   "metadata": {},
   "outputs": [],
   "source": [
    "def gradient(model, energy, eps=1e-6):\n",
    "    \"\"\"Compute gradient\n",
    "    \"\"\"\n",
    "    n = len(model.parameters)\n",
    "    f = model(energy)\n",
    "    shape = (n, len(np.atleast_1d(energy)))\n",
    "    df_dp = np.zeros(shape)\n",
    "    \n",
    "    for idx, parameter in enumerate(model.parameters):\n",
    "        if parameter.frozen:\n",
    "            continue\n",
    "\n",
    "        # TODO: is this a good step? Is there a better way?        \n",
    "        dp = eps * model.parameters.error(idx)\n",
    "        parameter.value += dp\n",
    "        df = model(energy) - f\n",
    "        df_dp[idx] = df.value / dp\n",
    "\n",
    "        # Reset model to original parameter\n",
    "        parameter.value -= dp\n",
    "    \n",
    "    return df_dp    \n",
    "\n",
    "\n",
    "def gradient_scipy(model, energy, eps=1e-12):\n",
    "    x = model.parameters.values\n",
    "    frozen = np.array([_.frozen for _ in model.parameters])\n",
    "    \n",
    "    def func(xk):\n",
    "        return model.evaluate(energy.to_value(\"TeV\"), *xk)\n",
    "\n",
    "    grad = approx_jacobian(x=x, func=func, epsilon=eps)\n",
    "    grad[:, frozen] = 0\n",
    "    return grad.T"
   ]
  },
  {
   "cell_type": "code",
   "execution_count": 4,
   "metadata": {},
   "outputs": [
    {
     "name": "stdout",
     "output_type": "stream",
     "text": [
      "979 µs ± 17.7 µs per loop (mean ± std. dev. of 7 runs, 1000 loops each)\n"
     ]
    }
   ],
   "source": [
    "%%timeit\n",
    "gradient(model, [1, 10, 100] * u.TeV)"
   ]
  },
  {
   "cell_type": "code",
   "execution_count": 5,
   "metadata": {},
   "outputs": [
    {
     "name": "stdout",
     "output_type": "stream",
     "text": [
      "307 µs ± 12.8 µs per loop (mean ± std. dev. of 7 runs, 1000 loops each)\n"
     ]
    }
   ],
   "source": [
    "%%timeit\n",
    "gradient_scipy(model, [1, 10, 100] * u.TeV)"
   ]
  },
  {
   "cell_type": "code",
   "execution_count": 6,
   "metadata": {
    "pycharm": {
     "is_executing": false,
     "name": "#%%\n"
    }
   },
   "outputs": [],
   "source": [
    "def _as_scalar(array):\n",
    "    \"\"\"Parse array as scalar if possible \"\"\"\n",
    "    try:\n",
    "        return array.item()\n",
    "    except ValueError:\n",
    "        return array\n",
    "\n",
    "def evaluate_error(model, energy):\n",
    "    \"\"\"New implementation of model.evaluate_error.\n",
    "    \n",
    "    TODO: vectorise to work for array `energy` (and keep scalar working)\n",
    "    \n",
    "    TODO: document\n",
    "    \"\"\"\n",
    "    C = model.parameters.covariance\n",
    "    df_dp = gradient_scipy(model, energy)\n",
    "    f_cov = np.dot(df_dp.T, np.dot(C, df_dp))\n",
    "    err = np.sqrt(np.diagonal(f_cov))\n",
    "    return _as_scalar(err)"
   ]
  },
  {
   "cell_type": "code",
   "execution_count": 7,
   "metadata": {
    "pycharm": {
     "is_executing": false,
     "name": "#%%\n"
    }
   },
   "outputs": [
    {
     "data": {
      "text/plain": [
       "3.6193922141707712e-12"
      ]
     },
     "execution_count": 7,
     "metadata": {},
     "output_type": "execute_result"
    }
   ],
   "source": [
    "model.evaluate_error(1 * u.TeV)[1].value"
   ]
  },
  {
   "cell_type": "code",
   "execution_count": 8,
   "metadata": {
    "pycharm": {
     "is_executing": false,
     "name": "#%%\n"
    }
   },
   "outputs": [
    {
     "data": {
      "text/plain": [
       "3.619392214170783e-12"
      ]
     },
     "execution_count": 8,
     "metadata": {},
     "output_type": "execute_result"
    }
   ],
   "source": [
    "evaluate_error(model, 1 * u.TeV)"
   ]
  },
  {
   "cell_type": "code",
   "execution_count": 9,
   "metadata": {
    "pycharm": {
     "is_executing": false,
     "name": "#%%\n"
    }
   },
   "outputs": [
    {
     "data": {
      "text/plain": [
       "array([2.02268909e-09, 3.61939221e-12, 3.62436537e-14, 1.09450339e-15,\n",
       "       9.37507775e-18, 5.74653364e-20])"
      ]
     },
     "execution_count": 9,
     "metadata": {},
     "output_type": "execute_result"
    }
   ],
   "source": [
    "model.evaluate_error([0.1, 1, 10, 30, 100, 300] * u.TeV)[1].value"
   ]
  },
  {
   "cell_type": "code",
   "execution_count": 10,
   "metadata": {
    "pycharm": {
     "is_executing": false,
     "name": "#%%\n"
    }
   },
   "outputs": [
    {
     "data": {
      "text/plain": [
       "array([2.02262782e-09, 3.61939221e-12, 3.62442853e-14, 1.09441060e-15,\n",
       "       9.37521522e-18, 5.74665748e-20])"
      ]
     },
     "execution_count": 10,
     "metadata": {},
     "output_type": "execute_result"
    }
   ],
   "source": [
    "evaluate_error(model, [0.1, 1, 10, 30, 100, 300] * u.TeV)"
   ]
  },
  {
   "cell_type": "markdown",
   "metadata": {
    "pycharm": {
     "name": "#%% md\n"
    }
   },
   "source": [
    "## Samples\n",
    "\n",
    "Sample parameters from the covariance matrix,\n",
    "and compute the distribution of the quantity of interest.\n",
    "\n",
    "- https://docs.scipy.org/doc/numpy/reference/random/generated/numpy.random.Generator.multivariate_normal.html\n",
    "- https://docs.astropy.org/en/stable/uncertainty/\n",
    "\n",
    "This is easy to implement if we do a Python for loop over sampled parameter sets.\n",
    "Typically one would do 10_000 to get a ~ 1% error.\n",
    "That's probably pretty slow.\n",
    "\n",
    "TODO: can we vectorise the evaluation over array energies and array parameters?"
   ]
  },
  {
   "cell_type": "code",
   "execution_count": 11,
   "metadata": {
    "pycharm": {
     "is_executing": false,
     "name": "#%%\n"
    }
   },
   "outputs": [],
   "source": [
    "def evaluate_error_sample(model, energy, n_samples=100):\n",
    "    \"\"\"Error propagation using sampling\"\"\"\n",
    "    raise NotImplementedError"
   ]
  },
  {
   "cell_type": "code",
   "execution_count": 12,
   "metadata": {
    "pycharm": {
     "is_executing": false,
     "name": "#%%\n"
    }
   },
   "outputs": [
    {
     "ename": "NotImplementedError",
     "evalue": "",
     "output_type": "error",
     "traceback": [
      "\u001b[0;31m---------------------------------------------------------------------------\u001b[0m",
      "\u001b[0;31mNotImplementedError\u001b[0m                       Traceback (most recent call last)",
      "\u001b[0;32m<ipython-input-12-be807867083f>\u001b[0m in \u001b[0;36m<module>\u001b[0;34m\u001b[0m\n\u001b[0;32m----> 1\u001b[0;31m \u001b[0mevaluate_error_sample\u001b[0m\u001b[0;34m(\u001b[0m\u001b[0mmodel\u001b[0m\u001b[0;34m,\u001b[0m \u001b[0;36m1\u001b[0m \u001b[0;34m*\u001b[0m \u001b[0mu\u001b[0m\u001b[0;34m.\u001b[0m\u001b[0mTeV\u001b[0m\u001b[0;34m)\u001b[0m\u001b[0;34m\u001b[0m\u001b[0m\n\u001b[0m",
      "\u001b[0;32m<ipython-input-11-11702598d94f>\u001b[0m in \u001b[0;36mevaluate_error_sample\u001b[0;34m(model, energy, n_samples)\u001b[0m\n\u001b[1;32m      1\u001b[0m \u001b[0;32mdef\u001b[0m \u001b[0mevaluate_error_sample\u001b[0m\u001b[0;34m(\u001b[0m\u001b[0mmodel\u001b[0m\u001b[0;34m,\u001b[0m \u001b[0menergy\u001b[0m\u001b[0;34m,\u001b[0m \u001b[0mn_samples\u001b[0m\u001b[0;34m=\u001b[0m\u001b[0;36m100\u001b[0m\u001b[0;34m)\u001b[0m\u001b[0;34m:\u001b[0m\u001b[0;34m\u001b[0m\u001b[0m\n\u001b[1;32m      2\u001b[0m     \u001b[0;34m\"\"\"Error propagation using sampling\"\"\"\u001b[0m\u001b[0;34m\u001b[0m\u001b[0m\n\u001b[0;32m----> 3\u001b[0;31m     \u001b[0;32mraise\u001b[0m \u001b[0mNotImplementedError\u001b[0m\u001b[0;34m\u001b[0m\u001b[0m\n\u001b[0m",
      "\u001b[0;31mNotImplementedError\u001b[0m: "
     ]
    }
   ],
   "source": [
    "evaluate_error_sample(model, 1 * u.TeV)"
   ]
  },
  {
   "cell_type": "code",
   "execution_count": null,
   "metadata": {
    "pycharm": {
     "is_executing": false,
     "name": "#%%\n"
    }
   },
   "outputs": [],
   "source": [
    "\n"
   ]
  }
 ],
 "metadata": {
  "kernelspec": {
   "display_name": "Python 3",
   "language": "python",
   "name": "python3"
  },
  "language_info": {
   "codemirror_mode": {
    "name": "ipython",
    "version": 3
   },
   "file_extension": ".py",
   "mimetype": "text/x-python",
   "name": "python",
   "nbconvert_exporter": "python",
   "pygments_lexer": "ipython3",
   "version": "3.7.0"
  },
  "pycharm": {
   "stem_cell": {
    "cell_type": "raw",
    "metadata": {
     "collapsed": false
    },
    "source": []
   }
  }
 },
 "nbformat": 4,
 "nbformat_minor": 1
}
