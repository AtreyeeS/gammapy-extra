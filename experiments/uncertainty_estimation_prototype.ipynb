{
 "cells": [
  {
   "cell_type": "markdown",
   "metadata": {},
   "source": [
    "# Uncertainty estimation prototype\n",
    "\n",
    "For https://github.com/gammapy/gammapy/pull/2255\n",
    "\n",
    "Quick prototype how to compute spectral model error band using\n",
    "\n",
    "1. Differentials\n",
    "2. Samples\n",
    "\n",
    "This is not clean code or a good solution yet, but it shows that we can compute this ourselves with ~ 30 lines of code in the spectral model base class.\n",
    "\n",
    "We use a spectral model with the values and covariance taken from here:\n",
    "https://github.com/open-gamma-ray-astro/joint-crab/blob/master/results/fit/fit_veritas.yaml"
   ]
  },
  {
   "cell_type": "code",
   "execution_count": 1,
   "metadata": {
    "pycharm": {
     "is_executing": false
    }
   },
   "outputs": [],
   "source": [
    "import numpy as np\n",
    "import astropy.units as u\n",
    "from gammapy.modeling.models import LogParabolaSpectralModel\n",
    "from scipy.optimize.slsqp import approx_jacobian"
   ]
  },
  {
   "cell_type": "code",
   "execution_count": 2,
   "metadata": {
    "pycharm": {
     "is_executing": false,
     "name": "#%%\n"
    }
   },
   "outputs": [],
   "source": [
    "model = LogParabolaSpectralModel(\n",
    "    amplitude=3.76e-11 * u.Unit(\"cm-2 s-1 TeV-1\"),\n",
    "    reference=1 * u.TeV,\n",
    "    alpha=2.44,\n",
    "    beta=0.25,\n",
    ")\n",
    "model.parameters.covariance = [\n",
    "    [1.31e-23, 0, -6.80e-14, 3.04e-13],\n",
    "    [0, 0, 0, 0],\n",
    "    [-6.80e-14, 0, 0.00899, 0.00904],\n",
    "    [3.04e-13, 0, 0.00904, 0.0284],\n",
    "]"
   ]
  },
  {
   "cell_type": "markdown",
   "metadata": {
    "pycharm": {
     "name": "#%% md\n"
    }
   },
   "source": [
    "## Differentials\n",
    "\n",
    "The current `evaluate_error` is based on the Python `uncertainties` package,\n",
    "which is based on differentials (computed with high precision, using autograd).\n",
    "\n",
    "Unfortunately it doesn't work for all models, and doesn't support `astropy.units.Quantity`,\n",
    "so let's code up our own solution. It will be less accurate (using finite differential steps)\n",
    "and probably also slower, but it will work for any model.\n",
    "\n",
    "To do the error propagation, we use the common approximation:\n",
    "https://en.wikipedia.org/wiki/Propagation_of_uncertainty#Non-linear_combinations\n",
    "\n",
    "- `p` = parameter vector\n",
    "- `C` = covariance matrix for parameters `p`\n",
    "- `f` = derived quantity, here `dN/dE(E)`\n",
    "-  `df/dp` = partial derivative vector, how `f` changes with `p`\n",
    "\n",
    "``f_err ^ 2 = (df/dp) @ C @ (df/dp)``"
   ]
  },
  {
   "cell_type": "code",
   "execution_count": 3,
   "metadata": {},
   "outputs": [],
   "source": [
    "def gradient_step(model, energy, eps=1e-6):\n",
    "    n = len(model.parameters)\n",
    "    f = model(energy)\n",
    "    shape = (n, len(np.atleast_1d(energy)))\n",
    "    df_dp = np.zeros(shape)\n",
    "    \n",
    "    for idx, parameter in enumerate(model.parameters):\n",
    "        if parameter.frozen:\n",
    "            continue\n",
    "\n",
    "        # TODO: is this a good step? Is there a better way?        \n",
    "        dp = eps * model.parameters.error(idx)\n",
    "        parameter.value += dp\n",
    "        df = model(energy) - f\n",
    "        df_dp[idx] = df.value / dp\n",
    "\n",
    "        # Reset model to original parameter\n",
    "        parameter.value -= dp\n",
    "    \n",
    "    return df_dp    \n",
    "\n",
    "\n",
    "def gradient_scipy(model, energy, eps=1e-12):\n",
    "    x = model.parameters.values\n",
    "    frozen = np.array([_.frozen for _ in model.parameters])\n",
    "    \n",
    "    def func(xk):\n",
    "        return model.evaluate(energy.to_value(\"TeV\"), *xk)\n",
    "\n",
    "    grad = approx_jacobian(x=x, func=func, epsilon=eps)\n",
    "    grad[:, frozen] = 0\n",
    "    return grad.T"
   ]
  },
  {
   "cell_type": "code",
   "execution_count": 4,
   "metadata": {},
   "outputs": [
    {
     "name": "stdout",
     "output_type": "stream",
     "text": [
      "996 µs ± 32.5 µs per loop (mean ± std. dev. of 7 runs, 1000 loops each)\n"
     ]
    }
   ],
   "source": [
    "%%timeit\n",
    "gradient_step(model, [1, 10, 100] * u.TeV)"
   ]
  },
  {
   "cell_type": "code",
   "execution_count": 5,
   "metadata": {},
   "outputs": [
    {
     "name": "stdout",
     "output_type": "stream",
     "text": [
      "327 µs ± 3.88 µs per loop (mean ± std. dev. of 7 runs, 1000 loops each)\n"
     ]
    }
   ],
   "source": [
    "%%timeit\n",
    "gradient_scipy(model, [1, 10, 100] * u.TeV)"
   ]
  },
  {
   "cell_type": "code",
   "execution_count": 6,
   "metadata": {
    "pycharm": {
     "is_executing": false,
     "name": "#%%\n"
    }
   },
   "outputs": [],
   "source": [
    "def evaluate_error(model, energy):\n",
    "    \"\"\"New implementation of model.evaluate_error.\"\"\"\n",
    "    C = model.parameters.covariance\n",
    "    df_dp = gradient_scipy(model, energy)\n",
    "    f_cov = np.dot(df_dp.T, np.dot(C, df_dp))\n",
    "    err = np.sqrt(np.diagonal(f_cov))\n",
    "    return err"
   ]
  },
  {
   "cell_type": "code",
   "execution_count": 7,
   "metadata": {
    "pycharm": {
     "is_executing": false,
     "name": "#%%\n"
    }
   },
   "outputs": [
    {
     "data": {
      "text/plain": [
       "3.6193922141707712e-12"
      ]
     },
     "execution_count": 7,
     "metadata": {},
     "output_type": "execute_result"
    }
   ],
   "source": [
    "model.evaluate_error(1 * u.TeV)[1].value"
   ]
  },
  {
   "cell_type": "code",
   "execution_count": 8,
   "metadata": {
    "pycharm": {
     "is_executing": false,
     "name": "#%%\n"
    }
   },
   "outputs": [
    {
     "data": {
      "text/plain": [
       "array([3.61939221e-12])"
      ]
     },
     "execution_count": 8,
     "metadata": {},
     "output_type": "execute_result"
    }
   ],
   "source": [
    "evaluate_error(model, 1 * u.TeV)"
   ]
  },
  {
   "cell_type": "code",
   "execution_count": 9,
   "metadata": {
    "pycharm": {
     "is_executing": false,
     "name": "#%%\n"
    }
   },
   "outputs": [
    {
     "data": {
      "text/plain": [
       "array([2.02268909e-09, 3.61939221e-12, 3.62436537e-14, 9.37507775e-18])"
      ]
     },
     "execution_count": 9,
     "metadata": {},
     "output_type": "execute_result"
    }
   ],
   "source": [
    "model.evaluate_error([0.1, 1, 10, 100] * u.TeV)[1].value"
   ]
  },
  {
   "cell_type": "code",
   "execution_count": 10,
   "metadata": {
    "pycharm": {
     "is_executing": false,
     "name": "#%%\n"
    }
   },
   "outputs": [
    {
     "data": {
      "text/plain": [
       "array([2.02262782e-09, 3.61939221e-12, 3.62442853e-14, 9.37521522e-18])"
      ]
     },
     "execution_count": 10,
     "metadata": {},
     "output_type": "execute_result"
    }
   ],
   "source": [
    "evaluate_error(model, [0.1, 1, 10, 100] * u.TeV)"
   ]
  },
  {
   "cell_type": "markdown",
   "metadata": {},
   "source": [
    "## Flux\n",
    "\n",
    "Besides differential flux `dnde` computed above, we also need to compute integral flux.\n",
    "We could try to generalise the error propagation code somehow, and to avoid code duplication.\n",
    "Here's one example how this might be achieved, by having the quantity of interest as a function ``fct`` and passing that to a generic error propatation routine."
   ]
  },
  {
   "cell_type": "code",
   "execution_count": 11,
   "metadata": {},
   "outputs": [],
   "source": [
    "def propagate_error(fct, parameters, eps=0.01):\n",
    "    n = len(parameters)\n",
    "    C = parameters.covariance\n",
    "    f = fct()\n",
    "    df_dp = np.zeros(n)\n",
    "    \n",
    "    for idx, parameter in enumerate(parameters):\n",
    "        if parameter.frozen:\n",
    "            continue\n",
    "\n",
    "        # TODO: is this a good step? Is there a better way?        \n",
    "        dp = eps * parameters.error(idx)\n",
    "        parameter.value += dp\n",
    "        df = fct() - f\n",
    "        df_dp[idx] = df.value / dp\n",
    "    \n",
    "        # Reset model to original parameter\n",
    "        parameter.value -= dp\n",
    "    \n",
    "    f_cov = df_dp @ C @ df_dp\n",
    "    return np.sqrt(f_cov)\n",
    "\n",
    "def evaluate_error(model, energy, eps=0.01):\n",
    "    def dnde():\n",
    "        return model(energy)\n",
    "\n",
    "    return propagate_error(dnde, model.parameters, eps)\n",
    "\n",
    "def integral_error(model, emin, emax, eps=0.01):\n",
    "    def integral():\n",
    "        return model.integral(emin, emax)\n",
    "\n",
    "    return propagate_error(integral, model.parameters, eps)"
   ]
  },
  {
   "cell_type": "markdown",
   "metadata": {
    "pycharm": {
     "name": "#%% md\n"
    }
   },
   "source": [
    "## Samples\n",
    "\n",
    "Sample parameters from the covariance matrix,\n",
    "and compute the distribution of the quantity of interest.\n",
    "\n",
    "- https://docs.scipy.org/doc/numpy/reference/random/generated/numpy.random.Generator.multivariate_normal.html\n",
    "- https://docs.astropy.org/en/stable/uncertainty/\n",
    "\n",
    "This is easy to implement if we do a Python for loop over sampled parameter sets.\n",
    "Typically one would do 10_000 to get a ~ 1% error.\n",
    "That's probably pretty slow.\n",
    "\n",
    "TODO: can we vectorise the evaluation over array energies and array parameters?"
   ]
  },
  {
   "cell_type": "code",
   "execution_count": 12,
   "metadata": {
    "pycharm": {
     "is_executing": false,
     "name": "#%%\n"
    }
   },
   "outputs": [],
   "source": [
    "def evaluate_error_sample(model, energy, err_scale=1, n_samples=1000):\n",
    "    \"\"\"Error propagation using sampling.\n",
    "    \n",
    "    Normally `err_scale=1` gives accurate results.\n",
    "    A small value like `err_scale=0.01` allows to reproduce\n",
    "    the method and results from the differential error propagation\n",
    "    method. \n",
    "    \n",
    "    TODO: document\n",
    "    \"\"\"\n",
    "    parameters = model.parameters\n",
    "    cov = (err_scale ** 2) * parameters.covariance\n",
    "    samples = np.random.multivariate_normal(\n",
    "        parameters.values, cov, size=n_samples\n",
    "    )\n",
    "    f_samples = np.zeros(n_samples)\n",
    "    for idx, sample in enumerate(samples):\n",
    "        with parameters.restore_values:\n",
    "            # TODO: should add Numpy array-based setter on Parameters\n",
    "            for par, val in zip(parameters, sample):\n",
    "                par.value = val\n",
    "\n",
    "            f_samples[idx] = model(energy).value\n",
    "    \n",
    "    return {\n",
    "        \"samples\": f_samples,\n",
    "        \"mean\": np.mean(f_samples),\n",
    "        \"error\": np.std(f_samples) / err_scale,\n",
    "    }"
   ]
  },
  {
   "cell_type": "code",
   "execution_count": 13,
   "metadata": {
    "pycharm": {
     "is_executing": false,
     "name": "#%%\n"
    }
   },
   "outputs": [
    {
     "name": "stdout",
     "output_type": "stream",
     "text": [
      "3.759983711667153e-11 3.0066520509718442e-12\n",
      "CPU times: user 2.5 s, sys: 20.2 ms, total: 2.52 s\n",
      "Wall time: 2.43 s\n"
     ]
    }
   ],
   "source": [
    "%%time\n",
    "dnde = evaluate_error_sample(model, 1 * u.TeV, err_scale=0.01, n_samples=10_000)\n",
    "# plt.hist(dnde[\"samples\"], bins=100)\n",
    "print(dnde[\"mean\"], dnde[\"error\"])"
   ]
  },
  {
   "cell_type": "code",
   "execution_count": 14,
   "metadata": {
    "pycharm": {
     "is_executing": false,
     "name": "#%%\n"
    }
   },
   "outputs": [
    {
     "data": {
      "text/plain": [
       "array([3.76000000e-11, 3.61939221e-12])"
      ]
     },
     "execution_count": 14,
     "metadata": {},
     "output_type": "execute_result"
    }
   ],
   "source": [
    "model.evaluate_error(1 * u.TeV).value"
   ]
  },
  {
   "cell_type": "markdown",
   "metadata": {},
   "source": [
    "The mean is correct, but the standard error from the MCMC doesn't match the value from `model.evaluate_error`, for unknown reasons. If you know why, please leave a comment in r https://github.com/gammapy/gammapy/pull/2255 !"
   ]
  },
  {
   "cell_type": "code",
   "execution_count": null,
   "metadata": {},
   "outputs": [],
   "source": []
  }
 ],
 "metadata": {
  "kernelspec": {
   "display_name": "Python 3",
   "language": "python",
   "name": "python3"
  },
  "language_info": {
   "codemirror_mode": {
    "name": "ipython",
    "version": 3
   },
   "file_extension": ".py",
   "mimetype": "text/x-python",
   "name": "python",
   "nbconvert_exporter": "python",
   "pygments_lexer": "ipython3",
   "version": "3.7.0"
  },
  "pycharm": {
   "stem_cell": {
    "cell_type": "raw",
    "metadata": {
     "collapsed": false
    },
    "source": []
   }
  }
 },
 "nbformat": 4,
 "nbformat_minor": 4
}
