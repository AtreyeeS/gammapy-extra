{
 "cells": [
  {
   "cell_type": "markdown",
   "metadata": {},
   "source": [
    "# Parameter links\n",
    "\n",
    "This notebook contains a short description how parameter links work in Python modeling packages that support this feature.\n",
    "The goal is to use this info as a basis for discussion what to put in Gammapy (see https://github.com/gammapy/gammapy/pull/1971).\n",
    "\n",
    "TODO: check how parameter links affect the optimiser interface, i.e. amend the examples to something where the parameter list seen by the optimiser is clear.\n",
    "\n",
    "## What is it?\n",
    "\n",
    "There are different ways to achieve linked parameters in a Python modeling package:\n",
    "\n",
    "1. Different models refer to the same Python `Parameter` objects. (Using the intrinsic feature that Python \"variables\" are references to objects, and there can be many references to the same object. This can be used in Gammapy now, although the way our model `__init__` works makes this awkward: it always creates new `Parameter` objects, so one would have to replace the references after `__init__`.\n",
    "2. Somewhere in the likelihood evaluation there can be code that updates the value of some parameters based on other parameters, i.e. something like `a.value = b.value`. This is very flexible in one sence (one can have `a.value = 3 * b.value ** 2`), but not flexible concerning giving power to the user, they would have to write their own functions and attach it to the likelihood or model evaluation somehow, e.g. via sub-classing. Very hard to teach to users and likely error-prone, not feasible for 100s of gamma-ray astronomers. This could work if the the goal isn't arbitrary linking of parameters by users, but only as a mechanism used internally to have multiple datasets and a joint likelihood, where it's clear what links should be created on `__init__`.\n",
    "3. Add some mechanism (property, descriptor, method, ...) as a new `link` feature on the `Parameter` class and / or `Model` class (or maybe `Parameters`?). As far as I can tell in all the existing solutions the link is asymmetric, linking parameter `a` to `b` is something different from linking `b` to `a`. Some solutions use a \"push/tell/forward/eager\" scheme, where parameter value updates propagate. Other solutions use a \"pull/ask/observe/lazy\" scheme, where parameter values are computed on access. Some solutions are simple, just linking Python objects, others have callables in the end-user API that define the relationship.\n",
    "\n",
    "So clearly it will be difficult to make this design choice for Gammapy.\n",
    "\n",
    "## Existing solutions\n",
    "\n",
    "Let's have a look how linked parameters are done in existing Python modeling packages:\n",
    "\n",
    "* [sherpa](https://sherpa.readthedocs.io/en/latest/models/index.html#params-link) has a `Parameter.link` attribute, and a `CompoundParameter` class to support expressions for links.\n",
    "* [astropy](http://docs.astropy.org/en/stable/modeling/fitting.html) has a `Parameter.tied` attribute (one example on that page) which is a funcion.\n",
    "* [astromodels](https://astromodels.readthedocs.io/en/latest/Model_tutorial.html#linking-parameters) has a [Model.link](https://astromodels.readthedocs.io/en/latest/api/astromodels.core.html#astromodels.core.model.Model.link) method properties to support linking like [Model.linked_parameters](https://astromodels.readthedocs.io/en/latest/api/astromodels.core.html#astromodels.core.model.Model.linked_parameters) and [Parameter.auxiliary_variable](https://astromodels.readthedocs.io/en/latest/api/astromodels.core.html#astromodels.core.parameter.Parameter.auxiliary_variable)\n",
    "* [scipy.optimize](https://docs.scipy.org/doc/scipy/reference/tutorial/optimize.html#constrained-minimization-of-multivariate-scalar-functions-minimize) supports constraints for some optimizers.\n",
    "* [lmfit](https://lmfit.github.io/lmfit-py/constraints.html) has constraints, which I think can also be parameter links.\n",
    "* [tensorflow](https://www.tensorflow.org/api_docs/python/tf/Variable#constraint) has `Variable.constraint`, not sure how it works.\n",
    "\n",
    "## Notes\n",
    "\n",
    "Note that there are two different things:\n",
    "* linking parameters reduces the number of parameters to optimise. E.g. if there are 10 parameters, and 3 are linked, the optimiser should see 7 parameters.\n",
    "* constraining parameters limits the domain of allowed values, but keeps the number of parameters the same.\n",
    "\n",
    "In some modeling framework, only one or the other is supported, in some both. Also, in terms of API, how links or constraints works can be separate, or can be mixed.\n",
    "\n",
    "In Gammapy we currently support min / max constraints on parameters, but not more general constraints on the domain.\n",
    "\n",
    "## Examples\n",
    "\n",
    "Let's have a quick look and try to get some working examples of linked parameters."
   ]
  },
  {
   "cell_type": "markdown",
   "metadata": {},
   "source": [
    "### Gammapy\n",
    "\n",
    "Link parameters in Gammapy by referring to the same `Parameter` object."
   ]
  },
  {
   "cell_type": "code",
   "execution_count": 1,
   "metadata": {},
   "outputs": [],
   "source": [
    "from gammapy.spectrum.models import ConstantModel"
   ]
  },
  {
   "cell_type": "code",
   "execution_count": 2,
   "metadata": {},
   "outputs": [
    {
     "name": "stdout",
     "output_type": "stream",
     "text": [
      "ConstantModel\n",
      "\n",
      "Parameters: \n",
      "\n",
      "\t name   value   error unit min max frozen\n",
      "\t----- --------- ----- ---- --- --- ------\n",
      "\tconst 2.000e+00   nan      nan nan  False\n",
      "Parameter(name='const', value=2.0, factor=2.0, scale=1.0, unit='', min=nan, max=nan, frozen=False)\n",
      "ConstantModel\n",
      "\n",
      "Parameters: \n",
      "\n",
      "\t name   value   error unit min max frozen\n",
      "\t----- --------- ----- ---- --- --- ------\n",
      "\tconst 2.000e+00   nan      nan nan  False\n",
      "Parameter(name='const', value=2.0, factor=2.0, scale=1.0, unit='', min=nan, max=nan, frozen=False)\n"
     ]
    }
   ],
   "source": [
    "a = ConstantModel(1)\n",
    "b = ConstantModel(2)\n",
    "\n",
    "# Create link\n",
    "a.parameters.parameters[0] = b.parameters['const']\n",
    "assert a.parameters['const'] is b.parameters['const']\n",
    "\n",
    "# The link isn't visible in printout\n",
    "# This would probably be a problem in debugging\n",
    "# We could add parameter `id` (using the Python `id` function)\n",
    "# to the repr to help with that issue\n",
    "print(a)\n",
    "print(a.parameters['const'])\n",
    "print(b)\n",
    "print(b.parameters['const'])"
   ]
  },
  {
   "cell_type": "code",
   "execution_count": 3,
   "metadata": {},
   "outputs": [],
   "source": [
    "# Check that link is working\n",
    "# Updating value for one parameter changes the other\n",
    "# (same for all properties like min / max / unit)\n",
    "a.parameters['const'].value = 42\n",
    "assert b.parameters['const'].value == 42\n",
    "\n",
    "# Note that the link goes both ways\n",
    "# We can also set the value in `b` and `a` will update\n",
    "b.parameters['const'].value = 43\n",
    "assert a.parameters['const'].value == 43"
   ]
  },
  {
   "cell_type": "markdown",
   "metadata": {},
   "source": [
    "Note how we can only do this after model init,\n",
    "and also that `Model` or `Parameter` has no API yet,\n",
    "we have to access the Python list in `model.parameters.parameters`"
   ]
  },
  {
   "cell_type": "markdown",
   "metadata": {},
   "source": [
    "### Sherpa\n",
    "\n",
    "An example of linked parameters in Sherpa is [here](https://sherpa.readthedocs.io/en/latest/models/index.html#params-link), but we'll make our own to have something to execute and investigate here."
   ]
  },
  {
   "cell_type": "code",
   "execution_count": 4,
   "metadata": {},
   "outputs": [],
   "source": [
    "from sherpa.models import Gauss1D, Const1D, Parameter"
   ]
  },
  {
   "cell_type": "code",
   "execution_count": 5,
   "metadata": {},
   "outputs": [
    {
     "name": "stdout",
     "output_type": "stream",
     "text": [
      "a\n",
      "   Param        Type          Value          Min          Max      Units\n",
      "   -----        ----          -----          ---          ---      -----\n",
      "   a.c0         linked            2               expr: b.c0           \n",
      "val         = 2.0\n",
      "min         = -3.4028234663852886e+38\n",
      "max         = 3.4028234663852886e+38\n",
      "units       = \n",
      "frozen      = True\n",
      "link        = b.c0\n",
      "default_val = 2.0\n",
      "default_min = -3.4028234663852886e+38\n",
      "default_max = 3.4028234663852886e+38\n",
      "b\n",
      "   Param        Type          Value          Min          Max      Units\n",
      "   -----        ----          -----          ---          ---      -----\n",
      "   b.c0         thawed            2 -3.40282e+38  3.40282e+38           \n",
      "val         = 2.0\n",
      "min         = -3.4028234663852886e+38\n",
      "max         = 3.4028234663852886e+38\n",
      "units       = \n",
      "frozen      = False\n",
      "link        = None\n",
      "default_val = 2.0\n",
      "default_min = -3.4028234663852886e+38\n",
      "default_max = 3.4028234663852886e+38\n"
     ]
    }
   ],
   "source": [
    "a = Const1D('a')\n",
    "b = Const1D('b')\n",
    "\n",
    "# Sherpa only allows setting parameter vals after model init:\n",
    "a.c0 = 1\n",
    "b.c0 = 2\n",
    "\n",
    "# Create link from origin `a.c0` to target `b.c0`\n",
    "a.c0 = b.c0\n",
    "\n",
    "# The link is visible in the printout\n",
    "print(a)\n",
    "print(a.c0)\n",
    "print(b)\n",
    "print(b.c0)"
   ]
  },
  {
   "cell_type": "markdown",
   "metadata": {},
   "source": [
    "Updating the link target value will update the link origin parameter as expected.\n",
    "I see [here](https://github.com/sherpa/sherpa/blob/fae4ccb0be524b970138bb81e1e00ddc330288c7/sherpa/models/parameter.py#L150-L174) that this is achieved via the get / set of the value property."
   ]
  },
  {
   "cell_type": "code",
   "execution_count": 6,
   "metadata": {},
   "outputs": [
    {
     "name": "stdout",
     "output_type": "stream",
     "text": [
      "a\n",
      "   Param        Type          Value          Min          Max      Units\n",
      "   -----        ----          -----          ---          ---      -----\n",
      "   a.c0         linked           42               expr: b.c0           \n",
      "val         = 42.0\n",
      "min         = -3.4028234663852886e+38\n",
      "max         = 3.4028234663852886e+38\n",
      "units       = \n",
      "frozen      = True\n",
      "link        = b.c0\n",
      "default_val = 42.0\n",
      "default_min = -3.4028234663852886e+38\n",
      "default_max = 3.4028234663852886e+38\n"
     ]
    }
   ],
   "source": [
    "b.c0 = 42\n",
    "assert a.c0.val == 42\n",
    "print(a)\n",
    "print(a.c0)"
   ]
  },
  {
   "cell_type": "code",
   "execution_count": 7,
   "metadata": {},
   "outputs": [
    {
     "name": "stdout",
     "output_type": "stream",
     "text": [
      "1.0\n"
     ]
    }
   ],
   "source": [
    "# Note that `a.c0._val` is still at the old value\n",
    "# If a parameter has a `link` set, it's own `_val` becomes unused and irrelevant\n",
    "print(a.c0._val)"
   ]
  },
  {
   "cell_type": "code",
   "execution_count": 8,
   "metadata": {},
   "outputs": [
    {
     "name": "stdout",
     "output_type": "stream",
     "text": [
      "a\n",
      "   Param        Type          Value          Min          Max      Units\n",
      "   -----        ----          -----          ---          ---      -----\n",
      "   a.c0         thawed           43 -3.40282e+38  3.40282e+38           \n",
      "b\n",
      "   Param        Type          Value          Min          Max      Units\n",
      "   -----        ----          -----          ---          ---      -----\n",
      "   b.c0         thawed           42 -3.40282e+38  3.40282e+38           \n",
      "val         = 43.0\n",
      "min         = -3.4028234663852886e+38\n",
      "max         = 3.4028234663852886e+38\n",
      "units       = \n",
      "frozen      = False\n",
      "link        = None\n",
      "default_val = 43.0\n",
      "default_min = -3.4028234663852886e+38\n",
      "default_max = 3.4028234663852886e+38\n"
     ]
    }
   ],
   "source": [
    "# The other direction doesn't work the same.\n",
    "# updating the value of the origin `a.c0` will not update the link target `b.c0`,\n",
    "# instead it seems to set the link to None\n",
    "a.c0 = b.c0\n",
    "a.c0 = 43\n",
    "print(a)\n",
    "print(b)\n",
    "print(a.c0)"
   ]
  },
  {
   "cell_type": "code",
   "execution_count": 9,
   "metadata": {},
   "outputs": [],
   "source": [
    "# TODO: check how the linking stuff influences the optimiser interface"
   ]
  },
  {
   "cell_type": "code",
   "execution_count": 10,
   "metadata": {},
   "outputs": [],
   "source": [
    "# Note that Sherpa parameter linking features are more complex / powerful.\n",
    "# See https://sherpa.readthedocs.io/en/latest/models/index.html#functional-relationship"
   ]
  },
  {
   "cell_type": "markdown",
   "metadata": {},
   "source": [
    "### Astropy\n",
    "\n",
    "Following the example from [here](http://docs.astropy.org/en/stable/modeling/fitting.html)."
   ]
  },
  {
   "cell_type": "code",
   "execution_count": 11,
   "metadata": {},
   "outputs": [
    {
     "name": "stdout",
     "output_type": "stream",
     "text": [
      "Parameter('mean', value=2.0, tied=<function tiedfunc at 0x1a1aa0e1e0>)\n",
      "[1. 2. 3.]\n"
     ]
    }
   ],
   "source": [
    "from astropy.modeling.models import Gaussian1D\n",
    "\n",
    "def tiedfunc(g1):\n",
    "   return 10 * g1.stddev\n",
    "\n",
    "g1 = Gaussian1D(amplitude=1, mean=2, stddev=3)\n",
    "g1.mean.tied = tiedfunc\n",
    "print(g1.mean)\n",
    "print(g1.parameters)"
   ]
  },
  {
   "cell_type": "code",
   "execution_count": 12,
   "metadata": {},
   "outputs": [
    {
     "data": {
      "text/plain": [
       "<Gaussian1D(amplitude=1., mean=2., stddev=42.)>"
      ]
     },
     "execution_count": 12,
     "metadata": {},
     "output_type": "execute_result"
    }
   ],
   "source": [
    "g1.stddev = 42\n",
    "g1"
   ]
  },
  {
   "cell_type": "code",
   "execution_count": 13,
   "metadata": {},
   "outputs": [
    {
     "data": {
      "text/plain": [
       "<Gaussian1D(amplitude=43., mean=2., stddev=42.)>"
      ]
     },
     "execution_count": 13,
     "metadata": {},
     "output_type": "execute_result"
    }
   ],
   "source": [
    "g1.amplitude = 43\n",
    "g1"
   ]
  },
  {
   "cell_type": "markdown",
   "metadata": {},
   "source": [
    "I don't know how this is supposed to work. There doesn't seem to be any parameter linking kicking in when setting values on either side of the link!?\n",
    "\n",
    "There is a test [here](https://github.com/astropy/astropy/blob/a671d49147a34145a6e354187ed1a1da8b9a89ee/astropy/modeling/tests/test_constraints.py#L46) that shows parameter linking working in an optimisation example, but I don't know yet how the optimiser interacts with the model or links. To be investigated ..."
   ]
  },
  {
   "cell_type": "markdown",
   "metadata": {},
   "source": [
    "### astromodels\n",
    "\n",
    "TODO: add simple example following https://astromodels.readthedocs.io/en/latest/Model_tutorial.html#linking-parameters and show how it works"
   ]
  },
  {
   "cell_type": "markdown",
   "metadata": {},
   "source": [
    "### lmfit\n",
    "\n",
    "TODO: add simple example following https://lmfit.github.io/lmfit-py/constraints.html and show how it works"
   ]
  },
  {
   "cell_type": "code",
   "execution_count": null,
   "metadata": {},
   "outputs": [],
   "source": []
  }
 ],
 "metadata": {
  "kernelspec": {
   "display_name": "Python 3",
   "language": "python",
   "name": "python3"
  },
  "language_info": {
   "codemirror_mode": {
    "name": "ipython",
    "version": 3
   },
   "file_extension": ".py",
   "mimetype": "text/x-python",
   "name": "python",
   "nbconvert_exporter": "python",
   "pygments_lexer": "ipython3",
   "version": "3.6.7"
  }
 },
 "nbformat": 4,
 "nbformat_minor": 2
}
