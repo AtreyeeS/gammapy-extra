{
 "cells": [
  {
   "cell_type": "markdown",
   "metadata": {},
   "source": [
    "# Spectrum simulation from a real observation\n",
    "\n"
   ]
  },
  {
   "cell_type": "markdown",
   "metadata": {},
   "source": [
    "## Introduction\n",
    "\n",
    "This notebook explains the use of the class SimulationRealBkg in gammapy.spectrum. \n",
    "This class is similar to the SpectrumSimulation class, but instead of using model backgrounds, uses real IRFs and a real sky background to simulate the observations; useful for understanding statisticaly effects in case of weak sources.\n",
    "\n",
    "[TBD: do we merge the 2 classes or should this remain separate?]"
   ]
  },
  {
   "cell_type": "markdown",
   "metadata": {},
   "source": [
    "## Setup - necessary imports..."
   ]
  },
  {
   "cell_type": "code",
   "execution_count": 1,
   "metadata": {},
   "outputs": [],
   "source": [
    "import numpy as np\n",
    "import os\n",
    "import astropy\n",
    "import sherpa\n",
    "import matplotlib.pyplot as plt\n",
    "import astropy.units as u\n",
    "from astropy.coordinates import SkyCoord, Angle\n",
    "from regions import CircleSkyRegion\n",
    "from gammapy.data import DataStore, ObservationList\n",
    "from gammapy.data import ObservationStats, ObservationSummary\n",
    "from gammapy.background.reflected import ReflectedRegionsBackgroundEstimator\n",
    "from gammapy.utils.energy import EnergyBounds\n",
    "from gammapy.spectrum import SpectrumExtraction, SpectrumObservation, SpectrumFit, SpectrumResult\n",
    "from gammapy.spectrum import SimulationRealBkg\n",
    "from gammapy.spectrum.models import PowerLaw\n",
    "\n"
   ]
  },
  {
   "cell_type": "markdown",
   "metadata": {},
   "source": [
    "# Setup the logger\n",
    "\n"
   ]
  },
  {
   "cell_type": "code",
   "execution_count": 2,
   "metadata": {},
   "outputs": [],
   "source": [
    "import logging\n",
    "logging.basicConfig()\n",
    "log = logging.getLogger('gammapy.spectrum')\n",
    "log.setLevel(logging.ERROR)\n",
    "\n"
   ]
  },
  {
   "cell_type": "markdown",
   "metadata": {},
   "source": [
    "## Choose the observations\n",
    "\n",
    "We run our analysis using the standard 4 Crab observations at present. In practice, you should use this to simulate a spectrum from the sky region around your source."
   ]
  },
  {
   "cell_type": "code",
   "execution_count": 3,
   "metadata": {},
   "outputs": [
    {
     "name": "stdout",
     "output_type": "stream",
     "text": [
      "[23523 23526 23559 23592]\n"
     ]
    }
   ],
   "source": [
    "data_store=DataStore.from_dir('$GAMMAPY_EXTRA/datasets/hess-crab4-hd-hap-prod2')\n",
    "obsid=data_store.obs_table['OBS_ID'].data\n",
    "print(obsid)\n",
    "\n"
   ]
  },
  {
   "cell_type": "markdown",
   "metadata": {},
   "source": [
    "## Define your spectral model\n",
    "Here we use a simple power law for demonstration"
   ]
  },
  {
   "cell_type": "code",
   "execution_count": 4,
   "metadata": {},
   "outputs": [],
   "source": [
    "index = 2.1 * u.Unit('')\n",
    "amplitude = 2.5 * 1e-10 * u.Unit('cm-2 s-1 TeV-1')\n",
    "reference = 1 * u.TeV\n",
    "model = PowerLaw(index=index, amplitude=amplitude, reference=reference)\n",
    "\n"
   ]
  },
  {
   "cell_type": "raw",
   "metadata": {},
   "source": [
    "## Now run the simulation for the 4 observations. \n",
    "You have to pass the spectral model, the observation, and the source position (to calculate the offset) each time. We use SkyCoord from astropy to find the position of the source. You must be connected to the interent to be able to use this function.\n",
    "\n",
    "The livetime for the simulation will be same as the observation livetime by default. You may also pass it as a parameter, \"livetime=\", to the class.\n",
    "\n",
    "This class extracts the reflected background for each observation and creates an OFF PHA counts spectrum.\n",
    "\n",
    "For each observation, we will simulate 10 spectra here (given by nsim)\n",
    "\n",
    "#to be tested: \n",
    "Is it ok to pass the same seeds for each observation? Or should they be necessarily different like here. Since the seed acts as the obs id, will it affect the spectrum grouping/stacking later if it is the same?"
   ]
  },
  {
   "cell_type": "code",
   "execution_count": 16,
   "metadata": {},
   "outputs": [
    {
     "name": "stdout",
     "output_type": "stream",
     "text": [
      "<SkyCoord (ICRS): (ra, dec) in deg\n",
      "    ( 83.633212,  22.01446)>\n"
     ]
    }
   ],
   "source": [
    "name=\"Crab\"\n",
    "src=SkyCoord.from_name(name)\n",
    "print(src)"
   ]
  },
  {
   "cell_type": "code",
   "execution_count": 36,
   "metadata": {},
   "outputs": [
    {
     "name": "stdout",
     "output_type": "stream",
     "text": [
      "[<gammapy.spectrum.observation.SpectrumObservation object at 0x11dca1550>, <gammapy.spectrum.observation.SpectrumObservation object at 0x11de3ced0>, <gammapy.spectrum.observation.SpectrumObservation object at 0x11da94810>]\n",
      "[<gammapy.spectrum.observation.SpectrumObservation object at 0x11dca1550>, <gammapy.spectrum.observation.SpectrumObservation object at 0x11de3ced0>, <gammapy.spectrum.observation.SpectrumObservation object at 0x11da94810>, <gammapy.spectrum.observation.SpectrumObservation object at 0x11db9a7d0>, <gammapy.spectrum.observation.SpectrumObservation object at 0x115611710>, <gammapy.spectrum.observation.SpectrumObservation object at 0x11de7b490>]\n",
      "[<gammapy.spectrum.observation.SpectrumObservation object at 0x11dca1550>, <gammapy.spectrum.observation.SpectrumObservation object at 0x11de3ced0>, <gammapy.spectrum.observation.SpectrumObservation object at 0x11da94810>, <gammapy.spectrum.observation.SpectrumObservation object at 0x11db9a7d0>, <gammapy.spectrum.observation.SpectrumObservation object at 0x115611710>, <gammapy.spectrum.observation.SpectrumObservation object at 0x11de7b490>, <gammapy.spectrum.observation.SpectrumObservation object at 0x11a90ca10>, <gammapy.spectrum.observation.SpectrumObservation object at 0x11a8bc810>, <gammapy.spectrum.observation.SpectrumObservation object at 0x11da94350>]\n",
      "[<gammapy.spectrum.observation.SpectrumObservation object at 0x11dca1550>, <gammapy.spectrum.observation.SpectrumObservation object at 0x11de3ced0>, <gammapy.spectrum.observation.SpectrumObservation object at 0x11da94810>, <gammapy.spectrum.observation.SpectrumObservation object at 0x11db9a7d0>, <gammapy.spectrum.observation.SpectrumObservation object at 0x115611710>, <gammapy.spectrum.observation.SpectrumObservation object at 0x11de7b490>, <gammapy.spectrum.observation.SpectrumObservation object at 0x11a90ca10>, <gammapy.spectrum.observation.SpectrumObservation object at 0x11a8bc810>, <gammapy.spectrum.observation.SpectrumObservation object at 0x11da94350>, <gammapy.spectrum.observation.SpectrumObservation object at 0x11db7e550>, <gammapy.spectrum.observation.SpectrumObservation object at 0x11db80550>, <gammapy.spectrum.observation.SpectrumObservation object at 0x11ddb7a10>]\n"
     ]
    }
   ],
   "source": [
    "n_obs=len(obsid) # no. of observations \n",
    "nsim = 3 # no. of simulations per observation\n",
    "mylist=data_store.obs_list(obsid)\n",
    "seeds=np.arange(nsim*n_obs)\n",
    "sims=[]\n",
    "for i in range(n_obs):\n",
    "    sim = SimulationRealBkg(source_model=model, obsrun=mylist[i], obspos=src)\n",
    "    r1=nsim*i\n",
    "    r2=r1+nsim\n",
    "    sim.run(seeds[r1:r2])\n",
    "    sims.extend(sim.result)\n",
    "    print sims\n",
    "    \n",
    "\n"
   ]
  },
  {
   "cell_type": "markdown",
   "metadata": {},
   "source": [
    "Lets take a look at our first simulation"
   ]
  },
  {
   "cell_type": "code",
   "execution_count": 37,
   "metadata": {},
   "outputs": [
    {
     "name": "stdout",
     "output_type": "stream",
     "text": [
      "[<gammapy.spectrum.observation.SpectrumObservation object at 0x11dca1550>, <gammapy.spectrum.observation.SpectrumObservation object at 0x11de3ced0>, <gammapy.spectrum.observation.SpectrumObservation object at 0x11da94810>, <gammapy.spectrum.observation.SpectrumObservation object at 0x11db9a7d0>, <gammapy.spectrum.observation.SpectrumObservation object at 0x115611710>, <gammapy.spectrum.observation.SpectrumObservation object at 0x11de7b490>, <gammapy.spectrum.observation.SpectrumObservation object at 0x11a90ca10>, <gammapy.spectrum.observation.SpectrumObservation object at 0x11a8bc810>, <gammapy.spectrum.observation.SpectrumObservation object at 0x11da94350>, <gammapy.spectrum.observation.SpectrumObservation object at 0x11db7e550>, <gammapy.spectrum.observation.SpectrumObservation object at 0x11db80550>, <gammapy.spectrum.observation.SpectrumObservation object at 0x11ddb7a10>]\n"
     ]
    }
   ],
   "source": [
    "print(sims)"
   ]
  },
  {
   "cell_type": "markdown",
   "metadata": {},
   "source": [
    "Now we take a look at the simulated counts and excess. For only 4 simulations, the histograms obviously are not very informative."
   ]
  },
  {
   "cell_type": "code",
   "execution_count": 38,
   "metadata": {},
   "outputs": [
    {
     "name": "stdout",
     "output_type": "stream",
     "text": [
      "('simulated source counts=', [2558, 2589, 2472, 2609, 2693, 2625, 1655, 1647, 1667, 1602, 1601, 1629])\n",
      "('observed background counts=', [42, 41, 42, 58, 62, 60, 79, 81, 79, 89, 90, 90])\n",
      "('predicted excess=', [2553.8000000000002, 2584.9000000000001, 2467.8000000000002, 2603.1999999999998, 2686.8000000000002, 2619.0, 1652.921052631579, 1644.8684210526317, 1664.921052631579, 1599.4571428571428, 1598.4285714285713, 1626.4285714285713])\n"
     ]
    },
    {
     "data": {
      "text/plain": [
       "Text(0.5,0,u'excess')"
      ]
     },
     "execution_count": 38,
     "metadata": {},
     "output_type": "execute_result"
    },
    {
     "data": {
      "image/png": "[encoded data removed]",
      "text/plain": [
       "<matplotlib.figure.Figure at 0x119747390>"
      ]
     },
     "metadata": {},
     "output_type": "display_data"
    }
   ],
   "source": [
    "n_on = [obs.total_stats.n_on for obs in sims]\n",
    "n_off = [obs.total_stats.n_off for obs in sims]\n",
    "excess = [obs.total_stats.excess for obs in sims]\n",
    "print(\"simulated source counts=\", n_on)\n",
    "print(\"observed background counts=\", n_off)\n",
    "print(\"predicted excess=\", excess)\n",
    "fix, axes = plt.subplots(1,3, figsize=(12, 4))\n",
    "axes[0].hist(n_on)\n",
    "axes[0].set_xlabel('n_on')\n",
    "axes[1].hist(n_off)\n",
    "axes[1].set_xlabel('n_off')\n",
    "axes[2].hist(excess)\n",
    "axes[2].set_xlabel('excess')\n"
   ]
  },
  {
   "cell_type": "raw",
   "metadata": {},
   "source": [
    "We now fit the spectra using the standard SpectrumFit."
   ]
  },
  {
   "cell_type": "code",
   "execution_count": 9,
   "metadata": {},
   "outputs": [
    {
     "name": "stderr",
     "output_type": "stream",
     "text": [
      "/Users/asinha/Gammapy-dev/gammapy/gammapy/stats/fit_statistics.py:161: RuntimeWarning: divide by zero encountered in log\n",
      "  term2_ = - n_on * np.log(mu_sig + alpha * mu_bkg)\n",
      "/Users/asinha/Gammapy-dev/gammapy/gammapy/stats/fit_statistics.py:166: RuntimeWarning: divide by zero encountered in log\n",
      "  term3_ = - n_off * np.log(mu_bkg)\n",
      "/Users/asinha/Gammapy-dev/gammapy/gammapy/stats/fit_statistics.py:203: RuntimeWarning: divide by zero encountered in log\n",
      "  term1 = - n_on * (1 - np.log(n_on))\n",
      "/Users/asinha/Gammapy-dev/gammapy/gammapy/stats/fit_statistics.py:204: RuntimeWarning: divide by zero encountered in log\n",
      "  term2 = - n_off * (1 - np.log(n_off))\n"
     ]
    }
   ],
   "source": [
    "best_fit_index = []\n",
    "index_err=[]\n",
    "best_fit_flux = []\n",
    "flux_err=[]\n",
    "for obs in sims:\n",
    "    fit = SpectrumFit(obs, model=model, stat='wstat')\n",
    "    fit.model.parameters['index'].value = 2.0\n",
    "    fit.run()\n",
    "    fit.est_errors()\n",
    "    best_fit_index.append(fit.result[0].model.parameters['index'].value)\n",
    "    best_fit_flux.append(fit.result[0].model.parameters['amplitude'].value)\n",
    "    index_err.append(np.sqrt(fit.result[0].model.parameters.covariance[0][0]))\n",
    "    flux_err.append(np.sqrt(fit.result[0].model.parameters.covariance[1][1]))"
   ]
  },
  {
   "cell_type": "code",
   "execution_count": 10,
   "metadata": {},
   "outputs": [
    {
     "data": {
      "text/plain": [
       "Text(0.5,0,u'amplitude')"
      ]
     },
     "execution_count": 10,
     "metadata": {},
     "output_type": "execute_result"
    },
    {
     "data": {
      "image/png": "[encoded data removed]",
      "text/plain": [
       "<matplotlib.figure.Figure at 0x11b845250>"
      ]
     },
     "metadata": {},
     "output_type": "display_data"
    }
   ],
   "source": [
    "\n",
    "fix, axes = plt.subplots(1,2)\n",
    "axes[0].hist(best_fit_index)\n",
    "axes[0].set_xlabel('index')\n",
    "axes[1].hist(best_fit_flux)\n",
    "axes[1].set_xlabel('amplitude')\n",
    "\n"
   ]
  },
  {
   "cell_type": "code",
   "execution_count": 94,
   "metadata": {},
   "outputs": [
    {
     "data": {
      "text/plain": [
       "Text(0,0.5,u'Flux')"
      ]
     },
     "execution_count": 94,
     "metadata": {},
     "output_type": "execute_result"
    },
    {
     "data": {
      "image/png": "[encoded data removed]",
      "text/plain": [
       "<matplotlib.figure.Figure at 0x11dba4e10>"
      ]
     },
     "metadata": {},
     "output_type": "display_data"
    }
   ],
   "source": [
    "plt.errorbar(best_fit_index,best_fit_flux,xerr=index_err,yerr=flux_err,fmt=\"ro\")\n",
    "plt.xlabel(\"Index\")\n",
    "plt.ylabel(\"Flux\")"
   ]
  },
  {
   "cell_type": "code",
   "execution_count": 95,
   "metadata": {},
   "outputs": [
    {
     "name": "stdout",
     "output_type": "stream",
     "text": [
      "('best_fit_index:', [2.1028956541231816, 2.1525158873136601, 2.1394288619979038, 2.1640497605341342])\n",
      "('best_fit_flux:', [2.4994472756462564e-10, 2.4867293933595093e-10, 2.5000289118076281e-10, 2.5226733270764591e-10])\n"
     ]
    }
   ],
   "source": [
    "print('best_fit_index:', best_fit_index)\n",
    "print('best_fit_flux:', best_fit_flux)\n"
   ]
  },
  {
   "cell_type": "code",
   "execution_count": null,
   "metadata": {},
   "outputs": [],
   "source": []
  }
 ],
 "metadata": {
  "kernelspec": {
   "display_name": "Python 2",
   "language": "python",
   "name": "python2"
  },
  "language_info": {
   "codemirror_mode": {
    "name": "ipython",
    "version": 2
   },
   "file_extension": ".py",
   "mimetype": "text/x-python",
   "name": "python",
   "nbconvert_exporter": "python",
   "pygments_lexer": "ipython2",
   "version": "2.7.14"
  }
 },
 "nbformat": 4,
 "nbformat_minor": 2
}
