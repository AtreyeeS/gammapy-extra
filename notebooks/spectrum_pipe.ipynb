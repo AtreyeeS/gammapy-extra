{
 "cells": [
  {
   "cell_type": "markdown",
   "metadata": {},
   "source": [
    "# Spectrum analysis with Gammapy (run pipeline)\n",
    "\n",
    "In this tutorial we will learn how to perform a 1d spectral analysis.\n",
    "\n",
    "We will use a \"pipeline\" or \"workflow\" class to run a standard analysis. If you're interested in implementation detail of the analysis in order to create a custom analysis class, you should read ([spectrum_analysis.ipynb](spectrum_analysis.ipynb)) that executes the analysis using lower-level classes and methods in Gammapy. \n",
    "\n",
    "In this tutorial we will use the folling Gammapy classes:\n",
    "\n",
    "- [gammapy.data.DataStore](http://docs.gammapy.org/dev/api/gammapy.data.DataStore.html) to load the data to \n",
    "- [gammapy.scripts.SpectrumAnalysisIACT](http://docs.gammapy.org/dev/api/gammapy.scripts.SpectrumAnalysisIACT.html) to run the analysis\n",
    "\n",
    "We use 4 Crab observations from H.E.S.S. for testing."
   ]
  },
  {
   "cell_type": "markdown",
   "metadata": {},
   "source": [
    "## Setup\n",
    "\n",
    "As usual, we'll start with some setup for the notebook, and import the functionality we need."
   ]
  },
  {
   "cell_type": "code",
   "execution_count": 1,
   "metadata": {},
   "outputs": [],
   "source": [
    "%matplotlib inline\n",
    "import numpy as np\n",
    "import matplotlib.pyplot as plt\n",
    "\n",
    "import astropy.units as u\n",
    "from astropy.coordinates import SkyCoord\n",
    "from regions import CircleSkyRegion\n",
    "\n",
    "from gammapy.utils.energy import EnergyBounds\n",
    "from gammapy.data import DataStore\n",
    "from gammapy.scripts import SpectrumAnalysisIACT\n",
    "from gammapy.catalog import SourceCatalogGammaCat\n",
    "from gammapy.maps import Map\n",
    "from gammapy.spectrum.models import LogParabola\n",
    "from gammapy.spectrum import CrabSpectrum"
   ]
  },
  {
   "cell_type": "markdown",
   "metadata": {},
   "source": [
    "## Select data\n",
    "\n",
    "First, we select and load some H.E.S.S. data (simulated events for now). In real life you would do something fancy here, or just use the list of observations someone send you (and hope they have done something fancy before). We'll just use the standard gammapy 4 crab runs."
   ]
  },
  {
   "cell_type": "code",
   "execution_count": 2,
   "metadata": {},
   "outputs": [
    {
     "name": "stdout",
     "output_type": "stream",
     "text": [
      "[23523 23526 23559 23592]\n"
     ]
    }
   ],
   "source": [
    "data_store = DataStore.from_dir(\"../datasets/hess-dl3-dr1/\")\n",
    "mask = data_store.obs_table[\"OBS_SUBSET_TAG\"] == \"crab\"\n",
    "obs_ids = data_store.obs_table[\"OBS_ID\"][mask].data\n",
    "observations = data_store.obs_list(obs_ids)\n",
    "print(obs_ids)"
   ]
  },
  {
   "cell_type": "markdown",
   "metadata": {},
   "source": [
    "## Configure the analysis\n",
    "\n",
    "Now we'll define the input for the spectrum analysis. It will be done the python way, i.e. by creating a config dict containing python objects. We plan to add also the convenience to configure the analysis using a plain text config file."
   ]
  },
  {
   "cell_type": "code",
   "execution_count": 3,
   "metadata": {},
   "outputs": [],
   "source": [
    "crab_pos = SkyCoord.from_name(\"crab\")\n",
    "on_region = CircleSkyRegion(crab_pos, 0.15 * u.deg)\n",
    "\n",
    "model = LogParabola(\n",
    "    alpha=2.3,\n",
    "    beta=0.01,\n",
    "    amplitude=1e-11 * u.Unit(\"cm-2 s-1 TeV-1\"),\n",
    "    reference=1 * u.TeV,\n",
    ")\n",
    "\n",
    "flux_point_binning = EnergyBounds.equal_log_spacing(0.7, 30, 5, u.TeV)"
   ]
  },
  {
   "cell_type": "code",
   "execution_count": 4,
   "metadata": {},
   "outputs": [
    {
     "data": {
      "image/png": "[encoded data removed]",
      "text/plain": [
       "<Figure size 432x288 with 1 Axes>"
      ]
     },
     "metadata": {},
     "output_type": "display_data"
    }
   ],
   "source": [
    "exclusion_mask = Map.create(skydir=crab_pos, width=(10, 10), binsz=0.02)\n",
    "\n",
    "gammacat = SourceCatalogGammaCat()\n",
    "\n",
    "regions = []\n",
    "for source in gammacat:\n",
    "    if not exclusion_mask.geom.contains(source.position):\n",
    "        continue\n",
    "    region = CircleSkyRegion(source.position, 0.15 * u.deg)\n",
    "    regions.append(region)\n",
    "\n",
    "exclusion_mask.data = exclusion_mask.geom.region_mask(regions, inside=False)\n",
    "exclusion_mask.plot();"
   ]
  },
  {
   "cell_type": "code",
   "execution_count": 5,
   "metadata": {},
   "outputs": [],
   "source": [
    "config = dict(\n",
    "    outdir=None,\n",
    "    background=dict(\n",
    "        on_region=on_region,\n",
    "        exclusion_mask=exclusion_mask,\n",
    "        min_distance=0.1 * u.rad,\n",
    "    ),\n",
    "    extraction=dict(containment_correction=False),\n",
    "    fit=dict(\n",
    "        model=model,\n",
    "        stat=\"wstat\",\n",
    "        forward_folded=True,\n",
    "        fit_range=flux_point_binning[[0, -1]],\n",
    "    ),\n",
    "    fp_binning=flux_point_binning,\n",
    ")"
   ]
  },
  {
   "cell_type": "markdown",
   "metadata": {},
   "source": [
    "## Run the analysis\n",
    "\n",
    "TODO: Clean up the log (partly done, get rid of remaining useless warnings)"
   ]
  },
  {
   "cell_type": "code",
   "execution_count": 6,
   "metadata": {},
   "outputs": [
    {
     "data": {
      "text/html": [
       "<hr>"
      ]
     },
     "metadata": {},
     "output_type": "display_data"
    },
    {
     "data": {
      "text/html": [
       "<table>\n",
       "    <tr>\n",
       "        <td title=\"Minimum value of function\">FCN = 108.83548502896397</td>\n",
       "        <td title=\"Total number of call to FCN so far\">TOTAL NCALL = 118</td>\n",
       "        <td title=\"Number of call in last migrad\">NCALLS = 118</td>\n",
       "    </tr>\n",
       "    <tr>\n",
       "        <td title=\"Estimated distance to minimum\">EDM = 2.6101091590896937e-06</td>\n",
       "        <td title=\"Maximum EDM definition of convergence\">GOAL EDM = 1e-05</td>\n",
       "        <td title=\"Error def. Amount of increase in FCN to be defined as 1 standard deviation\">\n",
       "        UP = 1.0</td>\n",
       "    </tr>\n",
       "</table>\n",
       "<table>\n",
       "    <tr>\n",
       "        <td align=\"center\" title=\"Validity of the migrad call\">Valid</td>\n",
       "        <td align=\"center\" title=\"Validity of parameters\">Valid Param</td>\n",
       "        <td align=\"center\" title=\"Is Covariance matrix accurate?\">Accurate Covar</td>\n",
       "        <td align=\"center\" title=\"Positive definiteness of covariance matrix\">PosDef</td>\n",
       "        <td align=\"center\" title=\"Was covariance matrix made posdef by adding diagonal element\">Made PosDef</td>\n",
       "    </tr>\n",
       "    <tr>\n",
       "        <td align=\"center\" style=\"background-color:#92CCA6\">True</td>\n",
       "        <td align=\"center\" style=\"background-color:#92CCA6\">True</td>\n",
       "        <td align=\"center\" style=\"background-color:#92CCA6\">True</td>\n",
       "        <td align=\"center\" style=\"background-color:#92CCA6\">True</td>\n",
       "        <td align=\"center\" style=\"background-color:#92CCA6\">False</td>\n",
       "    </tr>\n",
       "    <tr>\n",
       "        <td align=\"center\" title=\"Was last hesse call fail?\">Hesse Fail</td>\n",
       "        <td align=\"center\" title=\"Validity of covariance\">HasCov</td>\n",
       "        <td align=\"center\" title=\"Is EDM above goal EDM?\">Above EDM</td>\n",
       "        <td align=\"center\"></td>\n",
       "        <td align=\"center\" title=\"Did last migrad call reach max call limit?\">Reach calllim</td>\n",
       "    </tr>\n",
       "    <tr>\n",
       "        <td align=\"center\" style=\"background-color:#92CCA6\">False</td>\n",
       "        <td align=\"center\" style=\"background-color:#92CCA6\">True</td>\n",
       "        <td align=\"center\" style=\"background-color:#92CCA6\">False</td>\n",
       "        <td align=\"center\"></td>\n",
       "        <td align=\"center\" style=\"background-color:#92CCA6\">False</td>\n",
       "    </tr>\n",
       "</table>"
      ]
     },
     "metadata": {},
     "output_type": "display_data"
    },
    {
     "data": {
      "text/html": [
       "<table>\n",
       "    <tr>\n",
       "        <td><a href=\"#\" onclick=\"$('#qlVEvdeBZT').toggle()\">+</a></td>\n",
       "        <td title=\"Variable name\">Name</td>\n",
       "        <td title=\"Value of parameter\">Value</td>\n",
       "        <td title=\"Hesse error\">Hesse Error</td>\n",
       "        <td title=\"Minos lower error\">Minos Error-</td>\n",
       "        <td title=\"Minos upper error\">Minos Error+</td>\n",
       "        <td title=\"Lower limit of the parameter\">Limit-</td>\n",
       "        <td title=\"Upper limit of the parameter\">Limit+</td>\n",
       "        <td title=\"Is the parameter fixed in the fit\">Fixed?</td>\n",
       "    </tr>\n",
       "    <tr>\n",
       "        <td>0</td>\n",
       "        <td>par_000_amplitude</td>\n",
       "        <td>3.32931</td>\n",
       "        <td>0.222011</td>\n",
       "        <td></td>\n",
       "        <td></td>\n",
       "        <td></td>\n",
       "        <td></td>\n",
       "        <td>No</td>\n",
       "    </tr>\n",
       "    <tr>\n",
       "        <td>1</td>\n",
       "        <td>par_001_reference</td>\n",
       "        <td>1</td>\n",
       "        <td>1</td>\n",
       "        <td></td>\n",
       "        <td></td>\n",
       "        <td></td>\n",
       "        <td></td>\n",
       "        <td>Yes</td>\n",
       "    </tr>\n",
       "    <tr>\n",
       "        <td>2</td>\n",
       "        <td>par_002_alpha</td>\n",
       "        <td>2.32327</td>\n",
       "        <td>0.193054</td>\n",
       "        <td></td>\n",
       "        <td></td>\n",
       "        <td></td>\n",
       "        <td></td>\n",
       "        <td>No</td>\n",
       "    </tr>\n",
       "    <tr>\n",
       "        <td>3</td>\n",
       "        <td>par_003_beta</td>\n",
       "        <td>18.6602</td>\n",
       "        <td>9.95332</td>\n",
       "        <td></td>\n",
       "        <td></td>\n",
       "        <td></td>\n",
       "        <td></td>\n",
       "        <td>No</td>\n",
       "    </tr>\n",
       "</table>\n",
       "<pre id=\"qlVEvdeBZT\" style=\"display:none;\">\n",
       "<textarea rows=\"14\" cols=\"50\" onclick=\"this.select()\" readonly>\n",
       "\\begin{tabular}{|c|r|r|r|r|r|r|r|c|}\n",
       "\\hline\n",
       " & Name & Value & Hesse Error & Minos Error- & Minos Error+ & Limit- & Limit+ & Fixed?\\\\\n",
       "\\hline\n",
       "0 & par $000_{amplitude}$ & 3.32931 & 0.222011 &  &  &  &  & No\\\\\n",
       "\\hline\n",
       "1 & par $001_{reference}$ & 1 & 1 &  &  &  &  & Yes\\\\\n",
       "\\hline\n",
       "2 & par $002_{\\alpha}$ & 2.32327 & 0.193054 &  &  &  &  & No\\\\\n",
       "\\hline\n",
       "3 & par $003_{\\beta}$ & 18.6602 & 9.95332 &  &  &  &  & No\\\\\n",
       "\\hline\n",
       "\\end{tabular}\n",
       "</textarea>\n",
       "</pre>"
      ]
     },
     "metadata": {},
     "output_type": "display_data"
    },
    {
     "data": {
      "text/html": [
       "<hr>"
      ]
     },
     "metadata": {},
     "output_type": "display_data"
    }
   ],
   "source": [
    "analysis = SpectrumAnalysisIACT(observations=observations, config=config)\n",
    "analysis.run(opts_minuit={\"print_level\": 1})"
   ]
  },
  {
   "cell_type": "markdown",
   "metadata": {},
   "source": [
    "## Results\n",
    "\n",
    "Let's look at the results, and also compare with a previously published Crab nebula spectrum for reference."
   ]
  },
  {
   "cell_type": "code",
   "execution_count": 7,
   "metadata": {},
   "outputs": [
    {
     "name": "stdout",
     "output_type": "stream",
     "text": [
      "\n",
      "Fit result info \n",
      "--------------- \n",
      "Model: LogParabola\n",
      "\n",
      "Parameters: \n",
      "\n",
      "\t   name     value     error         unit      min max\n",
      "\t--------- --------- --------- --------------- --- ---\n",
      "\tamplitude 3.329e-11 2.220e-12 1 / (cm2 s TeV) nan nan\n",
      "\treference 1.000e+00 0.000e+00             TeV nan nan\n",
      "\t    alpha 2.323e+00 1.931e-01                 nan nan\n",
      "\t     beta 1.866e-01 9.953e-02                 nan nan\n",
      "\n",
      "Covariance: \n",
      "\n",
      "\t   name         amplitude        ...          beta         \n",
      "\t--------- ---------------------- ... ----------------------\n",
      "\tamplitude   4.92889897101586e-24 ... -6.321637165018376e-14\n",
      "\treference                    0.0 ...                    0.0\n",
      "\t    alpha  2.247623220255695e-13 ...  -0.017443815677126957\n",
      "\t     beta -6.321637165018376e-14 ...   0.009906859056281655 \n",
      "\n",
      "Statistic: 39.258 (wstat)\n",
      "Fit Range: [ 0.87992254 27.82559402] TeV\n",
      "\n"
     ]
    }
   ],
   "source": [
    "print(analysis.fit.result[0])"
   ]
  },
  {
   "cell_type": "code",
   "execution_count": 8,
   "metadata": {},
   "outputs": [
    {
     "data": {
      "text/plain": [
       "<matplotlib.axes._subplots.AxesSubplot at 0x122aac048>"
      ]
     },
     "execution_count": 8,
     "metadata": {},
     "output_type": "execute_result"
    },
    {
     "data": {
      "image/png": "[encoded data removed]",
      "text/plain": [
       "<Figure size 432x288 with 2 Axes>"
      ]
     },
     "metadata": {},
     "output_type": "display_data"
    }
   ],
   "source": [
    "opts = {\n",
    "    \"energy_range\": analysis.fit.fit_range,\n",
    "    \"energy_power\": 2,\n",
    "    \"flux_unit\": \"erg-1 cm-2 s-1\",\n",
    "}\n",
    "axes = analysis.spectrum_result.plot(**opts)\n",
    "CrabSpectrum().model.plot(ax=axes[0], **opts)"
   ]
  },
  {
   "cell_type": "markdown",
   "metadata": {},
   "source": [
    "## Exercises\n",
    "\n",
    "Rerun the analysis, changing some aspects of the analysis as you like:\n",
    "\n",
    "* only use one or two observations\n",
    "* a different spectral model\n",
    "* different config options for the spectral analysis\n",
    "* different energy binning for the spectral point computation\n",
    "\n",
    "Observe how the measured spectrum changes."
   ]
  }
 ],
 "metadata": {
  "kernelspec": {
   "display_name": "Python 3",
   "language": "python",
   "name": "python3"
  },
  "language_info": {
   "codemirror_mode": {
    "name": "ipython",
    "version": 3
   },
   "file_extension": ".py",
   "mimetype": "text/x-python",
   "name": "python",
   "nbconvert_exporter": "python",
   "pygments_lexer": "ipython3",
   "version": "3.6.0"
  }
 },
 "nbformat": 4,
 "nbformat_minor": 2
}
